{
 "cells": [
  {
   "cell_type": "markdown",
   "metadata": {},
   "source": [
    "# Support Vector Clustering \n",
    "##### Journal of Machine Learning Research 2 (2001) 125-137"
   ]
  },
  {
   "cell_type": "markdown",
   "metadata": {},
   "source": [
    "## Matrice di dispersione dei tre tipi di iris"
   ]
  },
  {
   "cell_type": "code",
   "execution_count": 1,
   "metadata": {},
   "outputs": [
    {
     "data": {
      "text/plain": [
       "<seaborn.axisgrid.PairGrid at 0x1053c4b00>"
      ]
     },
     "execution_count": 1,
     "metadata": {},
     "output_type": "execute_result"
    }
   ],
   "source": [
    "import seaborn as sns\n",
    "df = sns.load_dataset(\"iris\")\n",
    "sns.pairplot(df, hue=\"species\")"
   ]
  },
  {
   "cell_type": "markdown",
   "metadata": {},
   "source": [
    "### 1º modo per importare i dati: libreria seaborn"
   ]
  },
  {
   "cell_type": "code",
   "execution_count": 2,
   "metadata": {},
   "outputs": [
    {
     "name": "stdout",
     "output_type": "stream",
     "text": [
      "[[5.1 3.5 1.4 0.2]\n",
      " [4.9 3.  1.4 0.2]\n",
      " [4.7 3.2 1.3 0.2]\n",
      " [4.6 3.1 1.5 0.2]\n",
      " [5.  3.6 1.4 0.2]\n",
      " [5.4 3.9 1.7 0.4]\n",
      " [4.6 3.4 1.4 0.3]\n",
      " [5.  3.4 1.5 0.2]\n",
      " [4.4 2.9 1.4 0.2]\n",
      " [4.9 3.1 1.5 0.1]\n",
      " [5.4 3.7 1.5 0.2]\n",
      " [4.8 3.4 1.6 0.2]\n",
      " [4.8 3.  1.4 0.1]\n",
      " [4.3 3.  1.1 0.1]\n",
      " [5.8 4.  1.2 0.2]\n",
      " [5.7 4.4 1.5 0.4]\n",
      " [5.4 3.9 1.3 0.4]\n",
      " [5.1 3.5 1.4 0.3]\n",
      " [5.7 3.8 1.7 0.3]\n",
      " [5.1 3.8 1.5 0.3]\n",
      " [5.4 3.4 1.7 0.2]\n",
      " [5.1 3.7 1.5 0.4]\n",
      " [4.6 3.6 1.  0.2]\n",
      " [5.1 3.3 1.7 0.5]\n",
      " [4.8 3.4 1.9 0.2]\n",
      " [5.  3.  1.6 0.2]\n",
      " [5.  3.4 1.6 0.4]\n",
      " [5.2 3.5 1.5 0.2]\n",
      " [5.2 3.4 1.4 0.2]\n",
      " [4.7 3.2 1.6 0.2]\n",
      " [4.8 3.1 1.6 0.2]\n",
      " [5.4 3.4 1.5 0.4]\n",
      " [5.2 4.1 1.5 0.1]\n",
      " [5.5 4.2 1.4 0.2]\n",
      " [4.9 3.1 1.5 0.2]\n",
      " [5.  3.2 1.2 0.2]\n",
      " [5.5 3.5 1.3 0.2]\n",
      " [4.9 3.6 1.4 0.1]\n",
      " [4.4 3.  1.3 0.2]\n",
      " [5.1 3.4 1.5 0.2]\n",
      " [5.  3.5 1.3 0.3]\n",
      " [4.5 2.3 1.3 0.3]\n",
      " [4.4 3.2 1.3 0.2]\n",
      " [5.  3.5 1.6 0.6]\n",
      " [5.1 3.8 1.9 0.4]\n",
      " [4.8 3.  1.4 0.3]\n",
      " [5.1 3.8 1.6 0.2]\n",
      " [4.6 3.2 1.4 0.2]\n",
      " [5.3 3.7 1.5 0.2]\n",
      " [5.  3.3 1.4 0.2]]\n"
     ]
    }
   ],
   "source": [
    "#xs matrice che contiene i dati ed n la sua grandezza\n",
    "import seaborn as sns\n",
    "df = sns.load_dataset(\"iris\")\n",
    "expr = \"species=='setosa'\"\n",
    "df = df.query(expr)\n",
    "xs = df.drop(columns= 'species')\n",
    "xs = xs.values\n",
    "n = len(df.index)\n",
    "\n",
    "print(xs)"
   ]
  },
  {
   "cell_type": "markdown",
   "metadata": {},
   "source": [
    "### 2º modo per importare i dati: libreria sklearn"
   ]
  },
  {
   "cell_type": "code",
   "execution_count": 3,
   "metadata": {},
   "outputs": [
    {
     "name": "stdout",
     "output_type": "stream",
     "text": [
      "[[5.1 3.5 1.4 0.2]\n",
      " [4.9 3.  1.4 0.2]\n",
      " [4.7 3.2 1.3 0.2]\n",
      " [4.6 3.1 1.5 0.2]\n",
      " [5.  3.6 1.4 0.2]\n",
      " [5.4 3.9 1.7 0.4]\n",
      " [4.6 3.4 1.4 0.3]\n",
      " [5.  3.4 1.5 0.2]\n",
      " [4.4 2.9 1.4 0.2]\n",
      " [4.9 3.1 1.5 0.1]\n",
      " [5.4 3.7 1.5 0.2]\n",
      " [4.8 3.4 1.6 0.2]\n",
      " [4.8 3.  1.4 0.1]\n",
      " [4.3 3.  1.1 0.1]\n",
      " [5.8 4.  1.2 0.2]\n",
      " [5.7 4.4 1.5 0.4]\n",
      " [5.4 3.9 1.3 0.4]\n",
      " [5.1 3.5 1.4 0.3]\n",
      " [5.7 3.8 1.7 0.3]\n",
      " [5.1 3.8 1.5 0.3]\n",
      " [5.4 3.4 1.7 0.2]\n",
      " [5.1 3.7 1.5 0.4]\n",
      " [4.6 3.6 1.  0.2]\n",
      " [5.1 3.3 1.7 0.5]\n",
      " [4.8 3.4 1.9 0.2]\n",
      " [5.  3.  1.6 0.2]\n",
      " [5.  3.4 1.6 0.4]\n",
      " [5.2 3.5 1.5 0.2]\n",
      " [5.2 3.4 1.4 0.2]\n",
      " [4.7 3.2 1.6 0.2]\n",
      " [4.8 3.1 1.6 0.2]\n",
      " [5.4 3.4 1.5 0.4]\n",
      " [5.2 4.1 1.5 0.1]\n",
      " [5.5 4.2 1.4 0.2]\n",
      " [4.9 3.1 1.5 0.2]\n",
      " [5.  3.2 1.2 0.2]\n",
      " [5.5 3.5 1.3 0.2]\n",
      " [4.9 3.6 1.4 0.1]\n",
      " [4.4 3.  1.3 0.2]\n",
      " [5.1 3.4 1.5 0.2]\n",
      " [5.  3.5 1.3 0.3]\n",
      " [4.5 2.3 1.3 0.3]\n",
      " [4.4 3.2 1.3 0.2]\n",
      " [5.  3.5 1.6 0.6]\n",
      " [5.1 3.8 1.9 0.4]\n",
      " [4.8 3.  1.4 0.3]\n",
      " [5.1 3.8 1.6 0.2]\n",
      " [4.6 3.2 1.4 0.2]\n",
      " [5.3 3.7 1.5 0.2]\n",
      " [5.  3.3 1.4 0.2]]\n"
     ]
    }
   ],
   "source": [
    "#xs matrice che contiene i dati ed n la sua grandezza\n",
    "from sklearn import datasets\n",
    "iris = datasets.load_iris()\n",
    "xs=iris.data[iris.target==0]\n",
    "n=len(xs)\n",
    "\n",
    "print(xs)"
   ]
  },
  {
   "attachments": {
    "Schermata%202019-06-29%20alle%2019.11.44.png": {
     "image/png": "[encoded data removed]"
    }
   },
   "cell_type": "markdown",
   "metadata": {},
   "source": [
    "## Implementazione funzione kernel Gaussiano (RBF)\n",
    "![Schermata%202019-06-29%20alle%2019.11.44.png](attachment:Schermata%202019-06-29%20alle%2019.11.44.png)"
   ]
  },
  {
   "cell_type": "code",
   "execution_count": 4,
   "metadata": {},
   "outputs": [
    {
     "name": "stdout",
     "output_type": "stream",
     "text": [
      "Creata funzione kernel k(x1,x2)\n"
     ]
    }
   ],
   "source": [
    "q=3\n",
    "\n",
    "import numpy as np\n",
    "def gaussian_kernel(q):\n",
    "    return lambda x1,x2: np.exp(np.multiply(-q,np.linalg.norm(np.subtract(x1,x2))**2))\n",
    "k=gaussian_kernel(q)\n",
    "print('Creata funzione kernel k(x1,x2)')"
   ]
  },
  {
   "cell_type": "markdown",
   "metadata": {},
   "source": [
    "## Matrice NxN della funzione kernel applicata a tutte le coppie di dati"
   ]
  },
  {
   "cell_type": "code",
   "execution_count": 5,
   "metadata": {},
   "outputs": [
    {
     "name": "stdout",
     "output_type": "stream",
     "text": [
      "Creata kernel matrix km[i][j]\n"
     ]
    },
    {
     "data": {
      "text/plain": [
       "array([[1.        , 0.41895155, 0.45840601, ..., 0.36059494, 0.76337949,\n",
       "        0.86070798],\n",
       "       [0.41895155, 1.        , 0.76337949, ..., 0.67705687, 0.13806924,\n",
       "        0.74081822],\n",
       "       [0.45840601, 0.76337949, 1.        , ..., 0.94176453, 0.14227407,\n",
       "        0.71892373],\n",
       "       ...,\n",
       "       [0.36059494, 0.67705687, 0.94176453, ..., 1.        , 0.10539922,\n",
       "        0.60049558],\n",
       "       [0.76337949, 0.13806924, 0.14227407, ..., 0.10539922, 1.        ,\n",
       "        0.45840601],\n",
       "       [0.86070798, 0.74081822, 0.71892373, ..., 0.60049558, 0.45840601,\n",
       "        1.        ]])"
      ]
     },
     "execution_count": 5,
     "metadata": {},
     "output_type": "execute_result"
    }
   ],
   "source": [
    "km=np.zeros([n,n])\n",
    "for i in range(n):\n",
    "    for j in range(n):\n",
    "        km[i][j]=k(xs[i],xs[j])\n",
    "print('Creata kernel matrix km[i][j]')\n",
    "km"
   ]
  },
  {
   "cell_type": "markdown",
   "metadata": {},
   "source": [
    "## Ottimizzazione beta tramite Gurobipy"
   ]
  },
  {
   "cell_type": "code",
   "execution_count": 9,
   "metadata": {
    "scrolled": true
   },
   "outputs": [
    {
     "name": "stdout",
     "output_type": "stream",
     "text": [
      "Academic license - for non-commercial use only\n",
      "Optimize a model with 1 rows, 50 columns and 50 nonzeros\n",
      "Model has 1275 quadratic objective terms\n",
      "Coefficient statistics:\n",
      "  Matrix range     [1e+00, 1e+00]\n",
      "  Objective range  [1e+00, 1e+00]\n",
      "  QObjective range [8e-08, 4e+00]\n",
      "  Bounds range     [1e+00, 1e+00]\n",
      "  RHS range        [1e+00, 1e+00]\n",
      "Presolve time: 0.07s\n",
      "Presolved: 1 rows, 50 columns, 50 nonzeros\n",
      "Presolved model has 1275 quadratic objective terms\n",
      "Ordering time: 0.00s\n",
      "\n",
      "Barrier statistics:\n",
      " Free vars  : 49\n",
      " AA' NZ     : 1.225e+03\n",
      " Factor NZ  : 1.275e+03\n",
      " Factor Ops : 4.292e+04 (less than 1 second per iteration)\n",
      " Threads    : 1\n",
      "\n",
      "                  Objective                Residual\n",
      "Iter       Primal          Dual         Primal    Dual     Compl     Time\n",
      "   0  -3.57754992e+05  4.84755992e+05  9.37e+03 8.00e+00  2.54e+05     0s\n",
      "   1  -1.73383230e+05  1.91717109e+05  1.32e+03 1.68e-04  3.91e+04     0s\n",
      "   2  -5.13770259e+04  5.40806982e+04  1.68e+02 2.15e-05  5.89e+03     0s\n",
      "   3  -4.62150373e+03  5.16188827e+03  1.61e+01 2.06e-06  6.55e+02     0s\n",
      "   4   1.76456639e+00  3.03275722e+02  8.27e-02 1.06e-08  6.42e+00     0s\n",
      "   5   6.72692930e-01  8.74897700e+01  8.27e-08 1.30e-12  8.68e-01     0s\n",
      "   6   6.73798272e-01  1.30570553e+00  4.79e-10 5.55e-17  6.32e-03     0s\n",
      "   7   7.74602452e-01  1.07752289e+00  5.00e-16 4.76e-15  3.03e-03     0s\n",
      "   8   8.03395423e-01  8.42736602e-01  6.94e-17 1.78e-15  3.93e-04     0s\n",
      "   9   8.17214732e-01  8.24952090e-01  8.47e-16 1.78e-15  7.74e-05     0s\n",
      "  10   8.20905410e-01  8.21601306e-01  2.50e-16 1.78e-15  6.96e-06     0s\n",
      "  11   8.21411350e-01  8.21419648e-01  3.41e-15 1.78e-15  8.30e-08     0s\n",
      "  12   8.21417064e-01  8.21417288e-01  7.17e-14 6.88e-15  2.24e-09     0s\n",
      "  13   8.21417086e-01  8.21417090e-01  1.19e-11 1.78e-15  3.73e-11     0s\n",
      "\n",
      "Barrier solved model in 13 iterations and 0.14 seconds\n",
      "Optimal objective 8.21417086e-01\n",
      "\n"
     ]
    }
   ],
   "source": [
    "C = 1\n",
    "lower_bound = 0.\n",
    "upper_bound = C\n",
    "\n",
    "from gurobipy import *\n",
    "m = Model('Ottimizzazione')\n",
    "beta = m.addVars(n, lb= lower_bound, ub= upper_bound, vtype= GRB.CONTINUOUS, name= 'beta')\n",
    "m.addConstr(beta.sum() == 1)\n",
    "expr = 0\n",
    "for i in range(n):\n",
    "    expr += beta[i] * km[i][i]\n",
    "for i in range(n):\n",
    "    for j in range(n):\n",
    "        expr -= beta[i] * beta[j] * km[i][j]      \n",
    "m.setObjective(expr, GRB.MAXIMIZE)\n",
    "m.update()\n",
    "m.optimize()"
   ]
  },
  {
   "attachments": {
    "Schermata%202019-06-29%20alle%2019.04.53.png": {
     "image/png": "[encoded data removed]"
    }
   },
   "cell_type": "markdown",
   "metadata": {},
   "source": [
    "## Implementazione della seguente funzione r2\n",
    "![Schermata%202019-06-29%20alle%2019.04.53.png](attachment:Schermata%202019-06-29%20alle%2019.04.53.png)"
   ]
  },
  {
   "cell_type": "code",
   "execution_count": 10,
   "metadata": {},
   "outputs": [],
   "source": [
    "bbk = np.zeros([n,n])\n",
    "for i in range(n):\n",
    "    for j in range(n):\n",
    "        bbk = beta[i].x * beta[j].x * k(xs[i],xs[j])\n",
    "r2 = lambda x : k(x,x) - 2 * np.sum(np.fromiter((beta[j].x * k(xs[j],x) for j in range(n)), dtype= float)) + bbk"
   ]
  },
  {
   "cell_type": "markdown",
   "metadata": {},
   "source": [
    "## Calcolo matrice NxN di r2 per tutti dati contenuti in xs"
   ]
  },
  {
   "cell_type": "code",
   "execution_count": 11,
   "metadata": {
    "scrolled": true
   },
   "outputs": [
    {
     "data": {
      "text/plain": [
       "array([0.55482996, 0.62444925, 0.574988  , 0.61463643, 0.55664617,\n",
       "       0.58425178, 0.6028962 , 0.54239456, 0.64283143, 0.61100032,\n",
       "       0.54812198, 0.56446391, 0.6231884 , 0.64283418, 0.64283418,\n",
       "       0.64283418, 0.59643059, 0.55276758, 0.64283418, 0.56066955,\n",
       "       0.64283418, 0.56161655, 0.64283418, 0.63108755, 0.64283418,\n",
       "       0.64283418, 0.55671058, 0.54985368, 0.58179899, 0.60104508,\n",
       "       0.60165275, 0.63584235, 0.64283418, 0.58313187, 0.59273151,\n",
       "       0.64283418, 0.64283418, 0.58879818, 0.61975617, 0.5505268 ,\n",
       "       0.57316426, 0.64283418, 0.62387975, 0.64283418, 0.64283418,\n",
       "       0.61614028, 0.56467757, 0.58965539, 0.54091423, 0.56796003])"
      ]
     },
     "execution_count": 11,
     "metadata": {},
     "output_type": "execute_result"
    }
   ],
   "source": [
    "r2_matrix = np.zeros(n)\n",
    "for i in range(n):\n",
    "    r2_matrix[i] = r2(xs[i])\n",
    "r2_matrix"
   ]
  },
  {
   "cell_type": "markdown",
   "metadata": {},
   "source": [
    "## Trovo gli indici dei support vector e dei bundary support vector"
   ]
  },
  {
   "cell_type": "code",
   "execution_count": 12,
   "metadata": {
    "scrolled": true
   },
   "outputs": [
    {
     "name": "stdout",
     "output_type": "stream",
     "text": [
      "svs:\n",
      "[ 8 13 14 15 18 20 22 24 25 32 35 36 41 43 44]\n",
      "\n",
      "bsvs:\n",
      "[]\n"
     ]
    }
   ],
   "source": [
    "svs_tmp = np.full(n, True)\n",
    "bsvs_tmp = np.full(n, True)\n",
    "for i in range(n):\n",
    "    svs_tmp[i] = np.array(beta[i].x < C) and np.array(beta[i].x > 10 ** -8)\n",
    "    bsvs_tmp[i] = np.array(beta[i].x >= C)\n",
    "svs = np.where(svs_tmp == True)[0]\n",
    "bsvs = np.where(bsvs_tmp == True)[0]\n",
    "print(\"svs:\")  ; print(svs)\n",
    "print('')\n",
    "print(\"bsvs:\") ; print(bsvs)"
   ]
  },
  {
   "cell_type": "markdown",
   "metadata": {},
   "source": [
    "## Trovo la media dei SVS"
   ]
  },
  {
   "cell_type": "code",
   "execution_count": 13,
   "metadata": {
    "scrolled": true
   },
   "outputs": [
    {
     "name": "stdout",
     "output_type": "stream",
     "text": [
      "Il SV medio è: \n",
      "0.6428339926561591\n"
     ]
    }
   ],
   "source": [
    "iterable = (r2_matrix[svs[i]] for i in range(len(svs)))\n",
    "svs_mean = np.sum(np.fromiter(iterable, float)) / len(svs)\n",
    "\n",
    "print (\"Il SV medio è: \") ; print (svs_mean)"
   ]
  }
 ],
 "metadata": {
  "kernelspec": {
   "display_name": "Python 3",
   "language": "python",
   "name": "python3"
  },
  "language_info": {
   "codemirror_mode": {
    "name": "ipython",
    "version": 3
   },
   "file_extension": ".py",
   "mimetype": "text/x-python",
   "name": "python",
   "nbconvert_exporter": "python",
   "pygments_lexer": "ipython3",
   "version": "3.7.2"
  }
 },
 "nbformat": 4,
 "nbformat_minor": 2
}
